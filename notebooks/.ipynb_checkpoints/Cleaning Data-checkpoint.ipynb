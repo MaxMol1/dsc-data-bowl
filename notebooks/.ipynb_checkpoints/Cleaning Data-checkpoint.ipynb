{
 "cells": [
  {
   "cell_type": "code",
   "execution_count": 12,
   "metadata": {},
   "outputs": [],
   "source": [
    "# Import Necessary Libraries\n",
    "import pandas as pd\n",
    "import matplotlib.pyplot as plt\n",
    "import numpy as np\n",
    "import re"
   ]
  },
  {
   "cell_type": "markdown",
   "metadata": {},
   "source": [
    "### Formation"
   ]
  },
  {
   "cell_type": "code",
   "execution_count": 2,
   "metadata": {},
   "outputs": [
    {
     "name": "stderr",
     "output_type": "stream",
     "text": [
      "/Users/shozendan/.local/lib/python3.6/site-packages/IPython/core/interactiveshell.py:3058: DtypeWarning: Columns (47) have mixed types. Specify dtype option on import or set low_memory=False.\n",
      "  interactivity=interactivity, compiler=compiler, result=result)\n"
     ]
    }
   ],
   "source": [
    "df = pd.read_csv('../data/train.csv')"
   ]
  },
  {
   "cell_type": "code",
   "execution_count": 3,
   "metadata": {},
   "outputs": [
    {
     "data": {
      "text/plain": [
       "array(['SHOTGUN', 'SINGLEBACK', 'JUMBO', 'PISTOL', 'I_FORM', 'ACE',\n",
       "       'WILDCAT', nan, 'EMPTY'], dtype=object)"
      ]
     },
     "execution_count": 3,
     "metadata": {},
     "output_type": "execute_result"
    }
   ],
   "source": [
    "df.OffenseFormation.unique()"
   ]
  },
  {
   "cell_type": "code",
   "execution_count": 5,
   "metadata": {},
   "outputs": [],
   "source": [
    "formationMap = {} # map for the formation\n",
    "for formation in df.OffenseFormation.dropna().unique():\n",
    "    mean = df[df.OffenseFormation == formation]['Yards'].mean()\n",
    "    norm = (mean - df.Yards.mean()) / df.Yards.std()\n",
    "    formationMap[formation] = norm"
   ]
  },
  {
   "cell_type": "code",
   "execution_count": 8,
   "metadata": {},
   "outputs": [
    {
     "data": {
      "text/plain": [
       "{'SHOTGUN': 0.045963148916462235,\n",
       " 'SINGLEBACK': 0.0015194456415177967,\n",
       " 'JUMBO': -0.38160855326070875,\n",
       " 'PISTOL': 0.013366072098892314,\n",
       " 'I_FORM': -0.02951017150968959,\n",
       " 'ACE': -0.03299081321268627,\n",
       " 'WILDCAT': 0.0015362930633368854,\n",
       " 'EMPTY': 0.1291364684312485}"
      ]
     },
     "execution_count": 8,
     "metadata": {},
     "output_type": "execute_result"
    }
   ],
   "source": [
    "formationMap"
   ]
  },
  {
   "cell_type": "code",
   "execution_count": 9,
   "metadata": {},
   "outputs": [
    {
     "data": {
      "text/plain": [
       "0         0.045963\n",
       "1         0.045963\n",
       "2         0.045963\n",
       "3         0.045963\n",
       "4         0.045963\n",
       "            ...   \n",
       "509757    0.001519\n",
       "509758    0.001519\n",
       "509759    0.001519\n",
       "509760    0.001519\n",
       "509761    0.001519\n",
       "Name: OffenseFormation, Length: 509762, dtype: float64"
      ]
     },
     "execution_count": 9,
     "metadata": {},
     "output_type": "execute_result"
    }
   ],
   "source": [
    "df['OffenseFormation'].map(formationMap)"
   ]
  },
  {
   "cell_type": "code",
   "execution_count": 10,
   "metadata": {},
   "outputs": [],
   "source": [
    "# implementing the function\n",
    "def cleanOffenseFormation():\n",
    "    \"\"\"\n",
    "    This is a function for cleaning the Offense Formation column.\n",
    "    It will find the mean Yards for and normalize it.\n",
    "    \"\"\"\n",
    "    \n",
    "    formationMap = {}\n",
    "    for f in df.OffenseFormation.dropna().unique():\n",
    "        mean = df[df.OffenseFormation == f]['Yards'].mean()\n",
    "        norm = (mean - df.Yards.mean()) / df.Yards.std()\n",
    "        formationMap[f] = norm\n",
    "    \n",
    "    df['OffenseFormation'] = df['OffenseFormation'].map(formationMap)"
   ]
  },
  {
   "cell_type": "markdown",
   "metadata": {},
   "source": [
    "### Weather"
   ]
  },
  {
   "cell_type": "code",
   "execution_count": 11,
   "metadata": {},
   "outputs": [
    {
     "data": {
      "text/plain": [
       "array(['Clear and warm', 'Sun & clouds', 'Sunny', 'Controlled Climate',\n",
       "       'Mostly Sunny', 'Clear', nan, 'Indoor', 'Mostly Cloudy',\n",
       "       'Mostly Coudy', 'Partly sunny', 'Partly Cloudy', 'Cloudy',\n",
       "       'Sunny, highs to upper 80s', 'Indoors', 'Light Rain', 'Showers',\n",
       "       'Partly cloudy', 'Partly Sunny', '30% Chance of Rain',\n",
       "       'Cloudy with periods of rain, thunder possible. Winds shifting to WNW, 10-20 mph.',\n",
       "       'Rain', 'Cloudy, fog started developing in 2nd quarter', 'Coudy',\n",
       "       'Rain likely, temps in low 40s.', 'Cold', 'N/A (Indoors)',\n",
       "       'Clear skies', 'cloudy', 'Fair', 'Mostly cloudy',\n",
       "       'Cloudy, chance of rain', 'Heavy lake effect snow', 'Party Cloudy',\n",
       "       'Cloudy, light snow accumulating 1-3\"', 'Cloudy and cold', 'Snow',\n",
       "       'Hazy', 'Scattered Showers', 'Cloudy and Cool', 'N/A Indoor',\n",
       "       'Rain Chance 40%', 'Clear and sunny', 'Mostly sunny',\n",
       "       'Sunny and warm', 'Partly clear', 'Cloudy, 50% change of rain',\n",
       "       'Clear and Sunny', 'Sunny, Windy', 'Clear and Cool',\n",
       "       'Sunny and clear', 'Mostly Sunny Skies', 'Partly Clouidy',\n",
       "       'Clear Skies', 'Sunny Skies', 'Overcast',\n",
       "       'T: 51; H: 55; W: NW 10 mph', 'Cloudy, Rain', 'Rain shower',\n",
       "       'Clear and cold', 'Rainy', 'Sunny and cold'], dtype=object)"
      ]
     },
     "execution_count": 11,
     "metadata": {},
     "output_type": "execute_result"
    }
   ],
   "source": [
    "df.GameWeather.unique()"
   ]
  },
  {
   "cell_type": "code",
   "execution_count": 21,
   "metadata": {},
   "outputs": [],
   "source": [
    "def cleanGameWeather(x):\n",
    "        x = str(x).lower()\n",
    "        if 'sunny' in x or 'clear' in x or 'fair' in x:\n",
    "            return 'sunny'\n",
    "        elif 'cloud' in x or 'coudy' in x or 'clouidy' in x or 'hazy' in x or 'sun & clouds' in x or 'overcast' in x:\n",
    "            return 'cloudy'\n",
    "        elif 'rain' in x or 'shower' in x or 'rainy' in x:\n",
    "            return 'rainy'\n",
    "        elif 'controlled climate' in x or 'indoor' in x:\n",
    "            return 'indoor'\n",
    "        elif 'snow' in x:\n",
    "            return 'snowy'\n",
    "        return None"
   ]
  },
  {
   "cell_type": "code",
   "execution_count": 23,
   "metadata": {},
   "outputs": [],
   "source": [
    "df['GameWeather'] = df['GameWeather'].apply(cleanGameWeather)"
   ]
  },
  {
   "cell_type": "code",
   "execution_count": 26,
   "metadata": {},
   "outputs": [],
   "source": [
    "def mapGameWeather():\n",
    "    gameWeatherMap = {}\n",
    "    for w in df.GameWeather.dropna().unique():\n",
    "        mean = df[df.GameWeather == w]['Yards'].mean()\n",
    "        norm = (mean - df.Yards.mean()) / df.Yards.std()\n",
    "        gameWeatherMap[w] = norm\n",
    "    df['GameWeather'] = df['GameWeather'].map(gameWeatherMap)"
   ]
  },
  {
   "cell_type": "markdown",
   "metadata": {},
   "source": [
    "### Wind Direction"
   ]
  },
  {
   "cell_type": "code",
   "execution_count": 29,
   "metadata": {},
   "outputs": [
    {
     "data": {
      "text/plain": [
       "array(['SW', 'NNE', 'SE', 'East', nan, 'NE', 'North', 'S', 'Northwest',\n",
       "       'SouthWest', 'ENE', 'ESE', 'SSW', 'NW', 'Northeast', 'From S', 'W',\n",
       "       'South', 'West-Southwest', 'E', '13', 'N', 'NNW',\n",
       "       'South Southeast', 'SSE', 'West', 'WSW', 'From SW', 'WNW', 's',\n",
       "       'NorthEast', 'from W', 'W-NW', 'South Southwest', 'Southeast',\n",
       "       'From WSW', 'West Northwest', 'Calm', 'From SSE', 'From W',\n",
       "       'East North East', 'From ESE', 'EAST', 'East Southeast',\n",
       "       'From SSW', '8', 'North East', 'Southwest', 'North/Northwest',\n",
       "       'From NNE', '1', 'N-NE', 'W-SW', 'From NNW'], dtype=object)"
      ]
     },
     "execution_count": 29,
     "metadata": {},
     "output_type": "execute_result"
    }
   ],
   "source": [
    "df.WindDirection.unique()"
   ]
  },
  {
   "cell_type": "code",
   "execution_count": null,
   "metadata": {},
   "outputs": [],
   "source": [
    "def cleanWindDirection(txt):\n",
    "        if pd.isna(txt):\n",
    "            return np.nan\n",
    "        txt = txt.lower()\n",
    "        txt = ''.join([c for c in txt if c not in punctuation])\n",
    "        txt = txt.replace('from', '')\n",
    "        txt = txt.replace(' ', '')\n",
    "        txt = txt.replace('north', 'n')\n",
    "        txt = txt.replace('south', 's')\n",
    "        txt = txt.replace('west', 'w')\n",
    "        txt = txt.replace('east', 'e')\n",
    "        return txt"
   ]
  }
 ],
 "metadata": {
  "kernelspec": {
   "display_name": "Python 3",
   "language": "python",
   "name": "python3"
  },
  "language_info": {
   "codemirror_mode": {
    "name": "ipython",
    "version": 3
   },
   "file_extension": ".py",
   "mimetype": "text/x-python",
   "name": "python",
   "nbconvert_exporter": "python",
   "pygments_lexer": "ipython3",
   "version": "3.6.7"
  }
 },
 "nbformat": 4,
 "nbformat_minor": 2
}
