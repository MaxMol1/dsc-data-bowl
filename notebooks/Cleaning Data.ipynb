{
 "cells": [
  {
   "cell_type": "code",
   "execution_count": 33,
   "metadata": {},
   "outputs": [],
   "source": [
    "# Import Necessary Libraries\n",
    "import pandas as pd\n",
    "import matplotlib.pyplot as plt\n",
    "import numpy as np\n",
    "import re\n",
    "from string import punctuation"
   ]
  },
  {
   "cell_type": "markdown",
   "metadata": {},
   "source": [
    "### Drop"
   ]
  },
  {
   "cell_type": "code",
   "execution_count": 51,
   "metadata": {},
   "outputs": [],
   "source": [
    "# A list to add columns we are not going to use\n",
    "dropCols = []"
   ]
  },
  {
   "cell_type": "markdown",
   "metadata": {},
   "source": [
    "### Formation"
   ]
  },
  {
   "cell_type": "code",
   "execution_count": 2,
   "metadata": {},
   "outputs": [
    {
     "name": "stderr",
     "output_type": "stream",
     "text": [
      "/Users/shozendan/.local/lib/python3.6/site-packages/IPython/core/interactiveshell.py:3058: DtypeWarning: Columns (47) have mixed types. Specify dtype option on import or set low_memory=False.\n",
      "  interactivity=interactivity, compiler=compiler, result=result)\n"
     ]
    }
   ],
   "source": [
    "df = pd.read_csv('../data/train.csv')"
   ]
  },
  {
   "cell_type": "code",
   "execution_count": 3,
   "metadata": {},
   "outputs": [
    {
     "data": {
      "text/plain": [
       "array(['SHOTGUN', 'SINGLEBACK', 'JUMBO', 'PISTOL', 'I_FORM', 'ACE',\n",
       "       'WILDCAT', nan, 'EMPTY'], dtype=object)"
      ]
     },
     "execution_count": 3,
     "metadata": {},
     "output_type": "execute_result"
    }
   ],
   "source": [
    "df.OffenseFormation.unique()"
   ]
  },
  {
   "cell_type": "code",
   "execution_count": 5,
   "metadata": {},
   "outputs": [],
   "source": [
    "formationMap = {} # map for the formation\n",
    "for formation in df.OffenseFormation.dropna().unique():\n",
    "    mean = df[df.OffenseFormation == formation]['Yards'].mean()\n",
    "    norm = (mean - df.Yards.mean()) / df.Yards.std()\n",
    "    formationMap[formation] = norm"
   ]
  },
  {
   "cell_type": "code",
   "execution_count": 8,
   "metadata": {},
   "outputs": [
    {
     "data": {
      "text/plain": [
       "{'SHOTGUN': 0.045963148916462235,\n",
       " 'SINGLEBACK': 0.0015194456415177967,\n",
       " 'JUMBO': -0.38160855326070875,\n",
       " 'PISTOL': 0.013366072098892314,\n",
       " 'I_FORM': -0.02951017150968959,\n",
       " 'ACE': -0.03299081321268627,\n",
       " 'WILDCAT': 0.0015362930633368854,\n",
       " 'EMPTY': 0.1291364684312485}"
      ]
     },
     "execution_count": 8,
     "metadata": {},
     "output_type": "execute_result"
    }
   ],
   "source": [
    "formationMap"
   ]
  },
  {
   "cell_type": "code",
   "execution_count": 9,
   "metadata": {},
   "outputs": [
    {
     "data": {
      "text/plain": [
       "0         0.045963\n",
       "1         0.045963\n",
       "2         0.045963\n",
       "3         0.045963\n",
       "4         0.045963\n",
       "            ...   \n",
       "509757    0.001519\n",
       "509758    0.001519\n",
       "509759    0.001519\n",
       "509760    0.001519\n",
       "509761    0.001519\n",
       "Name: OffenseFormation, Length: 509762, dtype: float64"
      ]
     },
     "execution_count": 9,
     "metadata": {},
     "output_type": "execute_result"
    }
   ],
   "source": [
    "df['OffenseFormation'].map(formationMap)"
   ]
  },
  {
   "cell_type": "code",
   "execution_count": 10,
   "metadata": {},
   "outputs": [],
   "source": [
    "# implementing the function\n",
    "def cleanOffenseFormation():\n",
    "    \"\"\"\n",
    "    This is a function for cleaning the Offense Formation column.\n",
    "    It will find the mean Yards for and normalize it.\n",
    "    \"\"\"\n",
    "    \n",
    "    formationMap = {}\n",
    "    for f in df.OffenseFormation.dropna().unique():\n",
    "        mean = df[df.OffenseFormation == f]['Yards'].mean()\n",
    "        norm = (mean - df.Yards.mean()) / df.Yards.std()\n",
    "        formationMap[f] = norm\n",
    "    \n",
    "    df['OffenseFormation'] = df['OffenseFormation'].map(formationMap)"
   ]
  },
  {
   "cell_type": "markdown",
   "metadata": {},
   "source": [
    "### Weather"
   ]
  },
  {
   "cell_type": "code",
   "execution_count": 11,
   "metadata": {},
   "outputs": [
    {
     "data": {
      "text/plain": [
       "array(['Clear and warm', 'Sun & clouds', 'Sunny', 'Controlled Climate',\n",
       "       'Mostly Sunny', 'Clear', nan, 'Indoor', 'Mostly Cloudy',\n",
       "       'Mostly Coudy', 'Partly sunny', 'Partly Cloudy', 'Cloudy',\n",
       "       'Sunny, highs to upper 80s', 'Indoors', 'Light Rain', 'Showers',\n",
       "       'Partly cloudy', 'Partly Sunny', '30% Chance of Rain',\n",
       "       'Cloudy with periods of rain, thunder possible. Winds shifting to WNW, 10-20 mph.',\n",
       "       'Rain', 'Cloudy, fog started developing in 2nd quarter', 'Coudy',\n",
       "       'Rain likely, temps in low 40s.', 'Cold', 'N/A (Indoors)',\n",
       "       'Clear skies', 'cloudy', 'Fair', 'Mostly cloudy',\n",
       "       'Cloudy, chance of rain', 'Heavy lake effect snow', 'Party Cloudy',\n",
       "       'Cloudy, light snow accumulating 1-3\"', 'Cloudy and cold', 'Snow',\n",
       "       'Hazy', 'Scattered Showers', 'Cloudy and Cool', 'N/A Indoor',\n",
       "       'Rain Chance 40%', 'Clear and sunny', 'Mostly sunny',\n",
       "       'Sunny and warm', 'Partly clear', 'Cloudy, 50% change of rain',\n",
       "       'Clear and Sunny', 'Sunny, Windy', 'Clear and Cool',\n",
       "       'Sunny and clear', 'Mostly Sunny Skies', 'Partly Clouidy',\n",
       "       'Clear Skies', 'Sunny Skies', 'Overcast',\n",
       "       'T: 51; H: 55; W: NW 10 mph', 'Cloudy, Rain', 'Rain shower',\n",
       "       'Clear and cold', 'Rainy', 'Sunny and cold'], dtype=object)"
      ]
     },
     "execution_count": 11,
     "metadata": {},
     "output_type": "execute_result"
    }
   ],
   "source": [
    "df.GameWeather.unique()"
   ]
  },
  {
   "cell_type": "code",
   "execution_count": 21,
   "metadata": {},
   "outputs": [],
   "source": [
    "def cleanGameWeather(x):\n",
    "        x = str(x).lower()\n",
    "        if 'sunny' in x or 'clear' in x or 'fair' in x:\n",
    "            return 'sunny'\n",
    "        elif 'cloud' in x or 'coudy' in x or 'clouidy' in x or 'hazy' in x or 'sun & clouds' in x or 'overcast' in x:\n",
    "            return 'cloudy'\n",
    "        elif 'rain' in x or 'shower' in x or 'rainy' in x:\n",
    "            return 'rainy'\n",
    "        elif 'controlled climate' in x or 'indoor' in x:\n",
    "            return 'indoor'\n",
    "        elif 'snow' in x:\n",
    "            return 'snowy'\n",
    "        return None"
   ]
  },
  {
   "cell_type": "code",
   "execution_count": 23,
   "metadata": {},
   "outputs": [],
   "source": [
    "df['GameWeather'] = df['GameWeather'].apply(cleanGameWeather)"
   ]
  },
  {
   "cell_type": "code",
   "execution_count": 26,
   "metadata": {},
   "outputs": [],
   "source": [
    "def mapGameWeather():\n",
    "    gameWeatherMap = {}\n",
    "    for w in df.GameWeather.dropna().unique():\n",
    "        mean = df[df.GameWeather == w]['Yards'].mean()\n",
    "        norm = (mean - df.Yards.mean()) / df.Yards.std()\n",
    "        gameWeatherMap[w] = norm\n",
    "    df['GameWeather'] = df['GameWeather'].map(gameWeatherMap)"
   ]
  },
  {
   "cell_type": "markdown",
   "metadata": {},
   "source": [
    "### Wind Direction"
   ]
  },
  {
   "cell_type": "code",
   "execution_count": 29,
   "metadata": {},
   "outputs": [
    {
     "data": {
      "text/plain": [
       "array(['SW', 'NNE', 'SE', 'East', nan, 'NE', 'North', 'S', 'Northwest',\n",
       "       'SouthWest', 'ENE', 'ESE', 'SSW', 'NW', 'Northeast', 'From S', 'W',\n",
       "       'South', 'West-Southwest', 'E', '13', 'N', 'NNW',\n",
       "       'South Southeast', 'SSE', 'West', 'WSW', 'From SW', 'WNW', 's',\n",
       "       'NorthEast', 'from W', 'W-NW', 'South Southwest', 'Southeast',\n",
       "       'From WSW', 'West Northwest', 'Calm', 'From SSE', 'From W',\n",
       "       'East North East', 'From ESE', 'EAST', 'East Southeast',\n",
       "       'From SSW', '8', 'North East', 'Southwest', 'North/Northwest',\n",
       "       'From NNE', '1', 'N-NE', 'W-SW', 'From NNW'], dtype=object)"
      ]
     },
     "execution_count": 29,
     "metadata": {},
     "output_type": "execute_result"
    }
   ],
   "source": [
    "df.WindDirection.unique()"
   ]
  },
  {
   "cell_type": "code",
   "execution_count": 31,
   "metadata": {},
   "outputs": [],
   "source": [
    "def cleanWindDirection(txt):\n",
    "        if pd.isna(txt):\n",
    "            return np.nan\n",
    "        txt = txt.lower()\n",
    "        txt = ''.join([c for c in txt if c not in punctuation])\n",
    "        txt = txt.replace('from', '')\n",
    "        txt = txt.replace(' ', '')\n",
    "        txt = txt.replace('north', 'n')\n",
    "        txt = txt.replace('south', 's')\n",
    "        txt = txt.replace('west', 'w')\n",
    "        txt = txt.replace('east', 'e')\n",
    "        return txt"
   ]
  },
  {
   "cell_type": "code",
   "execution_count": 34,
   "metadata": {},
   "outputs": [],
   "source": [
    "df['WindDirection'] = df['WindDirection'].apply(cleanWindDirection)"
   ]
  },
  {
   "cell_type": "code",
   "execution_count": 35,
   "metadata": {},
   "outputs": [
    {
     "data": {
      "text/plain": [
       "array(['sw', 'nne', 'se', 'e', nan, 'ne', 'n', 's', 'nw', 'ene', 'ese',\n",
       "       'ssw', 'w', 'wsw', '13', 'nnw', 'sse', 'wnw', 'calm', '8', '1'],\n",
       "      dtype=object)"
      ]
     },
     "execution_count": 35,
     "metadata": {},
     "output_type": "execute_result"
    }
   ],
   "source": [
    "df.WindDirection.unique()"
   ]
  },
  {
   "cell_type": "code",
   "execution_count": 36,
   "metadata": {},
   "outputs": [],
   "source": [
    "def mapWindDirection(txt):\n",
    "    windDirectionMap = {\n",
    "        'n': 0,'nne': 1/8,'nen': 1/8,'ne': 2/8,\n",
    "        'ene': 3/8,'nee': 3/8,'e': 4/8,'ese': 5/8,\n",
    "        'see': 5/8,'se': 6/8,'ses': 7/8,'sse': 7/8,\n",
    "        's': 1,'ssw': 9/8,'sws': 9/8,'sw': 10/8,\n",
    "        'sww': 11/8,'wsw': 11/8,'w': 12/8,'wnw': 13/8,\n",
    "        'nw': 14/8,'nwn': 15/8,'nnw': 15/8\n",
    "    }\n",
    "    try:\n",
    "        return windDirectionMap[txt]\n",
    "    except:\n",
    "        return np.nan"
   ]
  },
  {
   "cell_type": "code",
   "execution_count": 37,
   "metadata": {},
   "outputs": [],
   "source": [
    "df['WindDirection'] = df['WindDirection'].apply(mapWindDirection)"
   ]
  },
  {
   "cell_type": "markdown",
   "metadata": {},
   "source": [
    "### Stadium Type"
   ]
  },
  {
   "cell_type": "code",
   "execution_count": 39,
   "metadata": {},
   "outputs": [
    {
     "data": {
      "text/plain": [
       "array(['Outdoor', 'Outdoors', 'Indoors', 'Retractable Roof', 'Indoor',\n",
       "       'Retr. Roof-Closed', 'Open', nan, 'Indoor, Open Roof',\n",
       "       'Retr. Roof - Closed', 'Outddors', 'Dome', 'Domed, closed',\n",
       "       'Indoor, Roof Closed', 'Retr. Roof Closed',\n",
       "       'Outdoor Retr Roof-Open', 'Closed Dome', 'Oudoor', 'Ourdoor',\n",
       "       'Dome, closed', 'Retr. Roof-Open', 'Heinz Field', 'Outdor',\n",
       "       'Retr. Roof - Open', 'Domed, Open', 'Domed, open', 'Cloudy',\n",
       "       'Bowl', 'Outside', 'Domed'], dtype=object)"
      ]
     },
     "execution_count": 39,
     "metadata": {},
     "output_type": "execute_result"
    }
   ],
   "source": [
    "df.StadiumType.unique()"
   ]
  },
  {
   "cell_type": "code",
   "execution_count": 41,
   "metadata": {},
   "outputs": [],
   "source": [
    "def cleanStadiumType(txt):  # Fixes the typo\n",
    "        if pd.isna(txt):\n",
    "            return np.nan\n",
    "        txt = txt.lower()\n",
    "        txt = ''.join([c for c in txt if c not in punctuation])\n",
    "        txt = re.sub(' +', ' ', txt)\n",
    "        txt = txt.strip()\n",
    "        txt = txt.replace('outside', 'outdoor')\n",
    "        txt = txt.replace('outdor', 'outdoor')\n",
    "        txt = txt.replace('outddors', 'outdoor')\n",
    "        txt = txt.replace('outdoors', 'outdoor')\n",
    "        txt = txt.replace('oudoor', 'outdoor')\n",
    "        txt = txt.replace('indoors', 'indoor')\n",
    "        txt = txt.replace('ourdoor', 'outdoor')\n",
    "        txt = txt.replace('retractable', 'rtr.')\n",
    "        return txt"
   ]
  },
  {
   "cell_type": "code",
   "execution_count": 42,
   "metadata": {},
   "outputs": [],
   "source": [
    "df['StadiumType'] = df['StadiumType'].apply(cleanStadiumType)"
   ]
  },
  {
   "cell_type": "code",
   "execution_count": 45,
   "metadata": {},
   "outputs": [
    {
     "data": {
      "image/png": "[encoded data removed]",
      "text/plain": [
       "<Figure size 1280x640 with 1 Axes>"
      ]
     },
     "metadata": {
      "needs_background": "light"
     },
     "output_type": "display_data"
    }
   ],
   "source": [
    "plt.figure(figsize=(16,8), dpi=80)\n",
    "for st in df.StadiumType.dropna().unique():\n",
    "    plt.hist(df[df.StadiumType == st]['Yards'], bins=10, alpha=.7)\n",
    "plt.show()"
   ]
  },
  {
   "cell_type": "code",
   "execution_count": 46,
   "metadata": {},
   "outputs": [],
   "source": [
    "def cleanStadiumType2(self, txt):\n",
    "        if pd.isna(txt):\n",
    "            return np.nan\n",
    "        if 'outdoor' in txt or 'open' in txt:\n",
    "            return 1\n",
    "        if 'indoor' in txt or 'closed' in txt:\n",
    "            return 0\n",
    "        return np.nan"
   ]
  },
  {
   "cell_type": "markdown",
   "metadata": {},
   "source": [
    "### Location"
   ]
  },
  {
   "cell_type": "code",
   "execution_count": 49,
   "metadata": {},
   "outputs": [
    {
     "data": {
      "text/plain": [
       "array(['Foxborough, MA', 'Orchard Park NY', 'Chicago. IL',\n",
       "       'Cincinnati, Ohio', 'Cleveland, Ohio', 'Detroit, MI',\n",
       "       'Houston, Texas', 'Nashville, TN', 'Landover, MD',\n",
       "       'Los Angeles, Calif.', 'Green Bay, WI', 'Santa Clara, CA',\n",
       "       'Arlington, Texas', 'Minneapolis, MN', 'Denver, CO',\n",
       "       'Baltimore, Md.', 'Charlotte, North Carolina',\n",
       "       'Indianapolis, Ind.', 'Jacksonville, FL', 'Kansas City, MO',\n",
       "       'New Orleans, LA', 'Pittsburgh', 'Tampa, FL', 'Carson, CA',\n",
       "       'Oakland, CA', 'Seattle, WA', 'Atlanta, GA', 'East Rutherford, NJ',\n",
       "       'London, England', 'Chicago, IL', 'Detroit', 'Philadelphia, Pa.',\n",
       "       'Glendale, AZ', 'Cleveland, OH', 'Foxborough, Ma',\n",
       "       'E. Rutherford, NJ', 'Miami Gardens, Fla.', 'Houston, TX',\n",
       "       'London', 'New Orleans, La.', 'Mexico City', 'Baltimore, Maryland',\n",
       "       'Arlington, TX', 'Jacksonville, Fl', 'Jacksonville, Florida',\n",
       "       'Pittsburgh, PA', 'Charlotte, NC', 'Cleveland,Ohio',\n",
       "       'East Rutherford, N.J.', 'Philadelphia, PA', 'Seattle',\n",
       "       'Cleveland Ohio', 'Miami Gardens, FLA', 'Orchard Park, NY',\n",
       "       'Cleveland', 'Cincinnati, OH', 'Kansas City,  MO',\n",
       "       'Jacksonville Florida', 'Los Angeles, CA', 'New Orleans'],\n",
       "      dtype=object)"
      ]
     },
     "execution_count": 49,
     "metadata": {},
     "output_type": "execute_result"
    }
   ],
   "source": [
    "df.Location.unique()"
   ]
  },
  {
   "cell_type": "code",
   "execution_count": 52,
   "metadata": {},
   "outputs": [],
   "source": [
    "dropCols.append('Location')"
   ]
  },
  {
   "cell_type": "code",
   "execution_count": null,
   "metadata": {},
   "outputs": [],
   "source": []
  }
 ],
 "metadata": {
  "kernelspec": {
   "display_name": "Python 3",
   "language": "python",
   "name": "python3"
  },
  "language_info": {
   "codemirror_mode": {
    "name": "ipython",
    "version": 3
   },
   "file_extension": ".py",
   "mimetype": "text/x-python",
   "name": "python",
   "nbconvert_exporter": "python",
   "pygments_lexer": "ipython3",
   "version": "3.6.7"
  }
 },
 "nbformat": 4,
 "nbformat_minor": 2
}
